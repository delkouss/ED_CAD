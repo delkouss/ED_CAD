{
 "cells": [
  {
   "cell_type": "markdown",
   "metadata": {},
   "source": [
    "# Generate binary matrices for all possible CNOTs "
   ]
  },
  {
   "cell_type": "code",
   "execution_count": 1,
   "metadata": {},
   "outputs": [],
   "source": [
    "# Check if a list contains duplicate element.\n",
    "import random\n",
    "def check_unique(A):\n",
    "    for i in range(len(A)):\n",
    "        for j in range(i+1, len(A)):\n",
    "            if A[i] == A[j]:\n",
    "                return False\n",
    "    return True"
   ]
  },
  {
   "cell_type": "code",
   "execution_count": 2,
   "metadata": {},
   "outputs": [],
   "source": [
    "distinct_cnots = []\n",
    "\n",
    "# Primitive CNOT (qubit 1 -> qubit 2)\n",
    "cnot12  = matrix(GF(2), \n",
    "[[1, 0, 0, 0, 0, 0],\n",
    " [1, 1, 0, 0, 0, 0],\n",
    " [0, 0, 1, 0, 0, 0],\n",
    " [0, 0, 0, 1, 1, 0],\n",
    " [0, 0, 0, 0, 1, 0],\n",
    " [0, 0, 0, 0, 0, 1]])\n",
    "\n",
    "# Primitive CNOT (qubit 2 -> qubit 1)\n",
    "cnot21  = matrix(GF(2), \n",
    "[[1, 1, 0, 0, 0, 0],\n",
    " [0, 1, 0, 0, 0, 0],\n",
    " [0, 0, 1, 0, 0, 0],\n",
    " [0, 0, 0, 1, 0, 0],\n",
    " [0, 0, 0, 1, 1, 0],\n",
    " [0, 0, 0, 0, 0, 1]])\n",
    "\n",
    "cnot13  = matrix(GF(2), \n",
    "[[1, 0, 0, 0, 0, 0],\n",
    " [0, 1, 0, 0, 0, 0],\n",
    " [1, 0, 1, 0, 0, 0],\n",
    " [0, 0, 0, 1, 0, 1],\n",
    " [0, 0, 0, 0, 1, 0],\n",
    " [0, 0, 0, 0, 0, 1]])\n",
    "\n",
    "cnot31  = matrix(GF(2), \n",
    "[[1, 0, 1, 0, 0, 0],\n",
    " [0, 1, 0, 0, 0, 0],\n",
    " [0, 0, 1, 0, 0, 0],\n",
    " [0, 0, 0, 1, 0, 0],\n",
    " [0, 0, 0, 0, 1, 0],\n",
    " [0, 0, 0, 1, 0, 1]])\n",
    "\n",
    "generators = [cnot12, cnot21, cnot13, cnot31]\n",
    "\n",
    "cumulative_multiple = matrix(GF(2), \n",
    "[[1, 0, 0, 0, 0, 0],\n",
    " [0, 1, 0, 0, 0, 0],\n",
    " [0, 0, 1, 0, 0, 0],\n",
    " [0, 0, 0, 1, 0, 0],\n",
    " [0, 0, 0, 0, 1, 0],\n",
    " [0, 0, 0, 0, 0, 1]])\n",
    "\n",
    "distinct_cnots.append(cumulative_multiple)\n",
    "\n",
    "counter = 0\n",
    "while len(distinct_cnots) < 168:\n",
    "    cumulative_multiple = cumulative_multiple * random.choice(generators)\n",
    "    if check_unique(distinct_cnots + [cumulative_multiple]):\n",
    "        distinct_cnots.append(cumulative_multiple)\n",
    "    else:\n",
    "        continue\n",
    "\n",
    "\n",
    "\n",
    "\n",
    "\n",
    "\n",
    "\n",
    "# Save the matrices\n",
    "for m in range(len(distinct_cnots)):\n",
    "    distinct_cnots[m].save(f\"cnots_{m}\")"
   ]
  }
 ],
 "metadata": {
  "kernelspec": {
   "display_name": "SageMath 10.1",
   "language": "sage",
   "name": "SageMath-10.1"
  },
  "language_info": {
   "codemirror_mode": {
    "name": "ipython",
    "version": 3
   },
   "file_extension": ".py",
   "mimetype": "text/x-python",
   "name": "python",
   "nbconvert_exporter": "python",
   "pygments_lexer": "ipython3",
   "version": "3.11.1"
  },
  "orig_nbformat": 4
 },
 "nbformat": 4,
 "nbformat_minor": 2
}
