{
 "cells": [
  {
   "cell_type": "markdown",
   "metadata": {},
   "source": [
    "# Generate binary matrices for all possible CNOTs "
   ]
  },
  {
   "cell_type": "code",
   "execution_count": 1,
   "metadata": {
    "vscode": {
     "languageId": "python"
    }
   },
   "outputs": [],
   "source": [
    "# Check if a list contains duplicate element.\n",
    "\n",
    "def check_unique(A):\n",
    "    for i in range(len(A)):\n",
    "        for j in range(i+1, len(A)):\n",
    "            if A[i] == A[j]:\n",
    "                return False\n",
    "    return True"
   ]
  },
  {
   "cell_type": "code",
   "execution_count": 2,
   "metadata": {
    "vscode": {
     "languageId": "python"
    }
   },
   "outputs": [],
   "source": [
    "distinct_cnots = []\n",
    "\n",
    "# Primitive CNOT (qubit 1 -> qubit 2)\n",
    "cnot12  = matrix(GF(2), [[1, 0, 0, 0],\n",
    " [1, 1, 0, 0],\n",
    " [0, 0, 1, 1],\n",
    " [0, 0, 0, 1]])\n",
    "\n",
    "# Primitive CNOT (qubit 2 -> qubit 1)\n",
    "cnot21 = matrix(GF(2), [[1, 1, 0, 0],\n",
    " [0, 1, 0, 0],\n",
    " [0, 0, 1, 0],\n",
    " [0, 0, 1, 1]])\n",
    "\n",
    "# Try possible CNOTs :-) \n",
    "# In more complicated situation, we should use random selection\n",
    "distinct_cnots.append(cnot12)\n",
    "distinct_cnots.append(cnot12*cnot12)\n",
    "distinct_cnots.append(cnot12*cnot12*cnot21)\n",
    "distinct_cnots.append(cnot12*cnot12*cnot21*cnot12)\n",
    "distinct_cnots.append(cnot12*cnot12*cnot21*cnot12*cnot21)\n",
    "distinct_cnots.append(cnot12*cnot12*cnot21*cnot12*cnot21*cnot12)\n",
    "\n",
    "\n",
    "\n",
    "\n",
    "# check_unique(distinct_cnots)\n",
    "\n",
    "# Save the matrices\n",
    "for m in range(len(distinct_cnots)):\n",
    "    distinct_cnots[m].save(f\"cnots_{m}\")"
   ]
  },
  {
   "cell_type": "code",
   "execution_count": 5,
   "metadata": {
    "vscode": {
     "languageId": "python"
    }
   },
   "outputs": [],
   "source": [
    "# Try loading\n",
    "test=load(\"cnots_5.sobj\")\n",
    "test"
   ]
  }
 ],
 "metadata": {
  "kernelspec": {
   "display_name": "SageMath 10.1",
   "language": "sage",
   "name": "SageMath-10.1"
  },
  "language_info": {
   "codemirror_mode": {
    "name": "ipython",
    "version": 3
   },
   "file_extension": ".py",
   "mimetype": "text/x-python",
   "name": "sage",
   "nbconvert_exporter": "python",
   "pygments_lexer": "ipython3",
   "version": "3.11.1"
  },
  "orig_nbformat": 4
 },
 "nbformat": 4,
 "nbformat_minor": 2
}
